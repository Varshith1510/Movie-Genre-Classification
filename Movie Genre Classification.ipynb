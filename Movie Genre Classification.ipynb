{
 "cells": [
  {
   "cell_type": "code",
   "execution_count": 1,
   "id": "9a672477",
   "metadata": {},
   "outputs": [],
   "source": [
    "# Import necessary libraries\n",
    "\n",
    "import numpy as np\n",
    "import pandas as pd\n",
    "import regex as re\n",
    "import nltk\n",
    "import matplotlib.pyplot as plt\n",
    "\n",
    "from nltk.tokenize import word_tokenize\n",
    "from nltk.corpus import stopwords\n",
    "from nltk.stem import WordNetLemmatizer\n",
    "from sklearn.feature_extraction.text import TfidfVectorizer\n",
    "from sklearn.linear_model import LogisticRegression\n",
    "from sklearn.naive_bayes import GaussianNB\n",
    "from sklearn.svm import SVC\n",
    "from sklearn.metrics import accuracy_score,precision_score,recall_score,f1_score\n",
    "from gensim.models import Word2Vec\n",
    "\n",
    "import warnings\n",
    "warnings.filterwarnings('ignore')"
   ]
  },
  {
   "cell_type": "code",
   "execution_count": 2,
   "id": "697e0db6",
   "metadata": {},
   "outputs": [],
   "source": [
    "# Loading the datasets\n",
    "\n",
    "train_data = pd.read_csv('Genre Classification Dataset/train_data.txt',delimiter=':::',names=['Title','Genre','Description'])\n",
    "test_data = pd.read_csv('Genre Classification Dataset/test_data.txt',delimiter=':::',names=['Title','Description'])\n",
    "test_sol = pd.read_csv('Genre Classification Dataset/test_data_solution.txt',delimiter=':::',names=['Title','Genre','Description'])"
   ]
  },
  {
   "cell_type": "code",
   "execution_count": 3,
   "id": "99e60d70",
   "metadata": {},
   "outputs": [
    {
     "name": "stdout",
     "output_type": "stream",
     "text": [
      "<class 'pandas.core.frame.DataFrame'>\n",
      "Int64Index: 54214 entries, 1 to 54214\n",
      "Data columns (total 3 columns):\n",
      " #   Column       Non-Null Count  Dtype \n",
      "---  ------       --------------  ----- \n",
      " 0   Title        54214 non-null  object\n",
      " 1   Genre        54214 non-null  object\n",
      " 2   Description  54214 non-null  object\n",
      "dtypes: object(3)\n",
      "memory usage: 1.7+ MB\n"
     ]
    }
   ],
   "source": [
    "train_data.info()"
   ]
  },
  {
   "cell_type": "code",
   "execution_count": 4,
   "id": "b3d93746",
   "metadata": {},
   "outputs": [
    {
     "name": "stdout",
     "output_type": "stream",
     "text": [
      "<class 'pandas.core.frame.DataFrame'>\n",
      "Int64Index: 54200 entries, 1 to 54200\n",
      "Data columns (total 2 columns):\n",
      " #   Column       Non-Null Count  Dtype \n",
      "---  ------       --------------  ----- \n",
      " 0   Title        54200 non-null  object\n",
      " 1   Description  54200 non-null  object\n",
      "dtypes: object(2)\n",
      "memory usage: 1.2+ MB\n"
     ]
    }
   ],
   "source": [
    "test_data.info()"
   ]
  },
  {
   "cell_type": "code",
   "execution_count": 5,
   "id": "692df3e4",
   "metadata": {},
   "outputs": [
    {
     "data": {
      "text/plain": [
       "Title          0\n",
       "Genre          0\n",
       "Description    0\n",
       "dtype: int64"
      ]
     },
     "execution_count": 5,
     "metadata": {},
     "output_type": "execute_result"
    }
   ],
   "source": [
    "# Check for null values\n",
    "train_data.isnull().sum()"
   ]
  },
  {
   "cell_type": "code",
   "execution_count": 6,
   "id": "c38c82da",
   "metadata": {},
   "outputs": [
    {
     "data": {
      "text/plain": [
       "Title          0\n",
       "Description    0\n",
       "dtype: int64"
      ]
     },
     "execution_count": 6,
     "metadata": {},
     "output_type": "execute_result"
    }
   ],
   "source": [
    "test_data.isnull().sum()"
   ]
  },
  {
   "cell_type": "code",
   "execution_count": 7,
   "id": "e9863790",
   "metadata": {},
   "outputs": [
    {
     "data": {
      "text/html": [
       "<div>\n",
       "<style scoped>\n",
       "    .dataframe tbody tr th:only-of-type {\n",
       "        vertical-align: middle;\n",
       "    }\n",
       "\n",
       "    .dataframe tbody tr th {\n",
       "        vertical-align: top;\n",
       "    }\n",
       "\n",
       "    .dataframe thead th {\n",
       "        text-align: right;\n",
       "    }\n",
       "</style>\n",
       "<table border=\"1\" class=\"dataframe\">\n",
       "  <thead>\n",
       "    <tr style=\"text-align: right;\">\n",
       "      <th></th>\n",
       "      <th>Title</th>\n",
       "      <th>Description</th>\n",
       "      <th>Genre</th>\n",
       "    </tr>\n",
       "  </thead>\n",
       "  <tbody>\n",
       "    <tr>\n",
       "      <th>1</th>\n",
       "      <td>Oscar et la dame rose (2009)</td>\n",
       "      <td>Listening in to a conversation between his do...</td>\n",
       "      <td>drama</td>\n",
       "    </tr>\n",
       "    <tr>\n",
       "      <th>2</th>\n",
       "      <td>Cupid (1997)</td>\n",
       "      <td>A brother and sister with a past incestuous r...</td>\n",
       "      <td>thriller</td>\n",
       "    </tr>\n",
       "    <tr>\n",
       "      <th>3</th>\n",
       "      <td>Young, Wild and Wonderful (1980)</td>\n",
       "      <td>As the bus empties the students for their fie...</td>\n",
       "      <td>adult</td>\n",
       "    </tr>\n",
       "    <tr>\n",
       "      <th>4</th>\n",
       "      <td>The Secret Sin (1915)</td>\n",
       "      <td>To help their unemployed father make ends mee...</td>\n",
       "      <td>drama</td>\n",
       "    </tr>\n",
       "    <tr>\n",
       "      <th>5</th>\n",
       "      <td>The Unrecovered (2007)</td>\n",
       "      <td>The film's title refers not only to the un-re...</td>\n",
       "      <td>drama</td>\n",
       "    </tr>\n",
       "  </tbody>\n",
       "</table>\n",
       "</div>"
      ],
      "text/plain": [
       "                                Title  \\\n",
       "1       Oscar et la dame rose (2009)    \n",
       "2                       Cupid (1997)    \n",
       "3   Young, Wild and Wonderful (1980)    \n",
       "4              The Secret Sin (1915)    \n",
       "5             The Unrecovered (2007)    \n",
       "\n",
       "                                         Description       Genre  \n",
       "1   Listening in to a conversation between his do...      drama   \n",
       "2   A brother and sister with a past incestuous r...   thriller   \n",
       "3   As the bus empties the students for their fie...      adult   \n",
       "4   To help their unemployed father make ends mee...      drama   \n",
       "5   The film's title refers not only to the un-re...      drama   "
      ]
     },
     "execution_count": 7,
     "metadata": {},
     "output_type": "execute_result"
    }
   ],
   "source": [
    "# Shifting the target variable to the last column\n",
    "\n",
    "columns = ['Title','Description','Genre']\n",
    "train_data = train_data[columns]\n",
    "train_data.head()"
   ]
  },
  {
   "cell_type": "code",
   "execution_count": 8,
   "id": "87a56461",
   "metadata": {},
   "outputs": [
    {
     "data": {
      "text/html": [
       "<div>\n",
       "<style scoped>\n",
       "    .dataframe tbody tr th:only-of-type {\n",
       "        vertical-align: middle;\n",
       "    }\n",
       "\n",
       "    .dataframe tbody tr th {\n",
       "        vertical-align: top;\n",
       "    }\n",
       "\n",
       "    .dataframe thead th {\n",
       "        text-align: right;\n",
       "    }\n",
       "</style>\n",
       "<table border=\"1\" class=\"dataframe\">\n",
       "  <thead>\n",
       "    <tr style=\"text-align: right;\">\n",
       "      <th></th>\n",
       "      <th>Title</th>\n",
       "      <th>Description</th>\n",
       "    </tr>\n",
       "  </thead>\n",
       "  <tbody>\n",
       "    <tr>\n",
       "      <th>1</th>\n",
       "      <td>Edgar's Lunch (1998)</td>\n",
       "      <td>L.R. Brane loves his life - his car, his apar...</td>\n",
       "    </tr>\n",
       "    <tr>\n",
       "      <th>2</th>\n",
       "      <td>La guerra de papá (1977)</td>\n",
       "      <td>Spain, March 1964: Quico is a very naughty ch...</td>\n",
       "    </tr>\n",
       "    <tr>\n",
       "      <th>3</th>\n",
       "      <td>Off the Beaten Track (2010)</td>\n",
       "      <td>One year in the life of Albin and his family ...</td>\n",
       "    </tr>\n",
       "    <tr>\n",
       "      <th>4</th>\n",
       "      <td>Meu Amigo Hindu (2015)</td>\n",
       "      <td>His father has died, he hasn't spoken with hi...</td>\n",
       "    </tr>\n",
       "    <tr>\n",
       "      <th>5</th>\n",
       "      <td>Er nu zhai (1955)</td>\n",
       "      <td>Before he was known internationally as a mart...</td>\n",
       "    </tr>\n",
       "  </tbody>\n",
       "</table>\n",
       "</div>"
      ],
      "text/plain": [
       "                           Title  \\\n",
       "1          Edgar's Lunch (1998)    \n",
       "2      La guerra de papá (1977)    \n",
       "3   Off the Beaten Track (2010)    \n",
       "4        Meu Amigo Hindu (2015)    \n",
       "5             Er nu zhai (1955)    \n",
       "\n",
       "                                         Description  \n",
       "1   L.R. Brane loves his life - his car, his apar...  \n",
       "2   Spain, March 1964: Quico is a very naughty ch...  \n",
       "3   One year in the life of Albin and his family ...  \n",
       "4   His father has died, he hasn't spoken with hi...  \n",
       "5   Before he was known internationally as a mart...  "
      ]
     },
     "execution_count": 8,
     "metadata": {},
     "output_type": "execute_result"
    }
   ],
   "source": [
    "test_data.head()"
   ]
  },
  {
   "cell_type": "code",
   "execution_count": 9,
   "id": "33692730",
   "metadata": {},
   "outputs": [
    {
     "data": {
      "text/plain": [
       "27"
      ]
     },
     "execution_count": 9,
     "metadata": {},
     "output_type": "execute_result"
    }
   ],
   "source": [
    "# Total no of genre\n",
    "train_data['Genre'].nunique()"
   ]
  },
  {
   "cell_type": "code",
   "execution_count": 10,
   "id": "a919b69c",
   "metadata": {},
   "outputs": [
    {
     "data": {
      "text/plain": [
       "array([' drama ', ' thriller ', ' adult ', ' documentary ', ' comedy ',\n",
       "       ' crime ', ' reality-tv ', ' horror ', ' sport ', ' animation ',\n",
       "       ' action ', ' fantasy ', ' short ', ' sci-fi ', ' music ',\n",
       "       ' adventure ', ' talk-show ', ' western ', ' family ', ' mystery ',\n",
       "       ' history ', ' news ', ' biography ', ' romance ', ' game-show ',\n",
       "       ' musical ', ' war '], dtype=object)"
      ]
     },
     "execution_count": 10,
     "metadata": {},
     "output_type": "execute_result"
    }
   ],
   "source": [
    "# Types of genre the moives belong to\n",
    "train_data['Genre'].unique()"
   ]
  },
  {
   "cell_type": "code",
   "execution_count": 11,
   "id": "ad8e2aeb",
   "metadata": {},
   "outputs": [
    {
     "data": {
      "text/plain": [
       " drama           13613\n",
       " documentary     13096\n",
       " comedy           7447\n",
       " short            5073\n",
       " horror           2204\n",
       " thriller         1591\n",
       " action           1315\n",
       " western          1032\n",
       " reality-tv        884\n",
       " family            784\n",
       " adventure         775\n",
       " music             731\n",
       " romance           672\n",
       " sci-fi            647\n",
       " adult             590\n",
       " crime             505\n",
       " animation         498\n",
       " sport             432\n",
       " talk-show         391\n",
       " fantasy           323\n",
       " mystery           319\n",
       " musical           277\n",
       " biography         265\n",
       " history           243\n",
       " game-show         194\n",
       " news              181\n",
       " war               132\n",
       "Name: Genre, dtype: int64"
      ]
     },
     "execution_count": 11,
     "metadata": {},
     "output_type": "execute_result"
    }
   ],
   "source": [
    "# No of movies in each genre\n",
    "train_data['Genre'].value_counts()"
   ]
  },
  {
   "cell_type": "code",
   "execution_count": 12,
   "id": "0f4070f6",
   "metadata": {},
   "outputs": [
    {
     "data": {
      "image/png": "[encoded data removed]",
      "text/plain": [
       "<Figure size 648x432 with 1 Axes>"
      ]
     },
     "metadata": {
      "needs_background": "light"
     },
     "output_type": "display_data"
    }
   ],
   "source": [
    "# Plotting the distribution of movies across each genre\n",
    "\n",
    "plt.figure(figsize=(9,6))\n",
    "plt.bar(train_data['Genre'].unique(),train_data['Genre'].value_counts())\n",
    "plt.title('Movies released across each genre')\n",
    "plt.xlabel('Genre')\n",
    "plt.ylabel('No of movies')\n",
    "plt.xticks(rotation = 70)\n",
    "plt.show()"
   ]
  },
  {
   "cell_type": "markdown",
   "id": "6f4b1301",
   "metadata": {},
   "source": [
    "#### Splitting the data"
   ]
  },
  {
   "cell_type": "code",
   "execution_count": 13,
   "id": "bc2d0301",
   "metadata": {},
   "outputs": [],
   "source": [
    "# Splitting the training data \n",
    "\n",
    "x_train = train_data.iloc[:,1].values # Considering only the movie description as a feature to predict the genre of the movie \n",
    "y_train = train_data.iloc[:,-1].values\n",
    "\n",
    "# Selecting the testing data\n",
    "x_test = test_data.iloc[:,-1].values # Considering only the movie description as a feature to predict the genre of the movie "
   ]
  },
  {
   "cell_type": "markdown",
   "id": "b62bd760",
   "metadata": {},
   "source": [
    "#### Text Preprocessing"
   ]
  },
  {
   "cell_type": "code",
   "execution_count": 14,
   "id": "d5698e05",
   "metadata": {},
   "outputs": [],
   "source": [
    "def process_text(text):\n",
    "    ''' This function performing text cleaning & converts words into it's base form '''\n",
    "    \n",
    "    # Convert to lowercase\n",
    "    sentence = text.lower()\n",
    "    \n",
    "    # Removing username\n",
    "    sentence = re.sub(r'@[a-zA-Z0-9_.]+','',sentence) \n",
    "    \n",
    "    # Removing URLs\n",
    "    sentence = re.sub(r\"https?://\\S+|www\\.\\S+\",'',sentence)\n",
    "    \n",
    "    # Character normalization \n",
    "    sentence = re.sub(r\"([a-zA-Z])\\1{2,}\", r'\\1', sentence)\n",
    "    \n",
    "    # Removing punctuations \n",
    "    sentence = re.sub(r'[^\\w\\s]','',sentence)\n",
    "    \n",
    "    # Removing stopwords & converting to lowercase\n",
    "    english_stop = stopwords.words('english')\n",
    "    sentence = ' '.join([word for word in sentence.split() if word not in english_stop])\n",
    "    \n",
    "    # Performing word tokenization\n",
    "    sentence = word_tokenize(sentence) # Returns a list of words\n",
    "    \n",
    "    # Performing lemmatization\n",
    "    lemmatizer = WordNetLemmatizer()\n",
    "    sentence = ' '.join([lemmatizer.lemmatize(word) for word in sentence])\n",
    "    \n",
    "    return sentence"
   ]
  },
  {
   "cell_type": "code",
   "execution_count": 15,
   "id": "7e5a8445",
   "metadata": {},
   "outputs": [],
   "source": [
    "# Applying text cleaning & preprocessing techniques on the text data\n",
    "\n",
    "x_train = [process_text(desc) for desc in x_train]\n",
    "x_test = [process_text(desc) for desc in x_test]"
   ]
  },
  {
   "cell_type": "code",
   "execution_count": 16,
   "id": "154ad18a",
   "metadata": {},
   "outputs": [],
   "source": [
    "# Representing the processed text as a list of words\n",
    "\n",
    "x_train_low = [desc.split() for desc in x_train]\n",
    "x_test_low = [desc.split() for desc in x_test]"
   ]
  },
  {
   "cell_type": "markdown",
   "id": "45c93ccc",
   "metadata": {},
   "source": [
    "#### Creating a vocabulary"
   ]
  },
  {
   "cell_type": "code",
   "execution_count": 17,
   "id": "012892f8",
   "metadata": {},
   "outputs": [],
   "source": [
    "vocab = []\n",
    "\n",
    "for desc in x_train_low:\n",
    "    for word in desc:\n",
    "        if word not in vocab:\n",
    "            vocab.append(word)"
   ]
  },
  {
   "cell_type": "code",
   "execution_count": 18,
   "id": "5fa777d8",
   "metadata": {},
   "outputs": [
    {
     "name": "stdout",
     "output_type": "stream",
     "text": [
      "Size of vocabulary:  139768\n"
     ]
    }
   ],
   "source": [
    "print(\"Size of vocabulary: \",len(vocab))"
   ]
  },
  {
   "cell_type": "markdown",
   "id": "52ddeed4",
   "metadata": {},
   "source": [
    "#### Creating feature vectors"
   ]
  },
  {
   "cell_type": "markdown",
   "id": "8fe85e7c",
   "metadata": {},
   "source": [
    "#### TF- IDF "
   ]
  },
  {
   "cell_type": "code",
   "execution_count": 19,
   "id": "2d05222b",
   "metadata": {},
   "outputs": [],
   "source": [
    "# Applying TF-IDF vectorizer\n",
    "\n",
    "tf_idf = TfidfVectorizer(max_features = 5000)\n",
    "train_vector = tf_idf.fit_transform(x_train)\n",
    "test_vector = tf_idf.transform(x_test)"
   ]
  },
  {
   "cell_type": "markdown",
   "id": "9981af97",
   "metadata": {},
   "source": [
    "#### Word2Vec"
   ]
  },
  {
   "cell_type": "code",
   "execution_count": 20,
   "id": "2ecc1a6d",
   "metadata": {},
   "outputs": [],
   "source": [
    "model = Word2Vec(sentences = x_train_low, vector_size = 100, epochs = 5, workers = 5)"
   ]
  },
  {
   "cell_type": "code",
   "execution_count": 21,
   "id": "861169d0",
   "metadata": {},
   "outputs": [],
   "source": [
    "words_in_model = model.wv.index_to_key"
   ]
  },
  {
   "cell_type": "code",
   "execution_count": 22,
   "id": "f19ad5d6",
   "metadata": {},
   "outputs": [],
   "source": [
    "def word_in_vocab(sentence):\n",
    "    ''' This fn checks if all the words present in the sentence is part of the vocabulary of the model or not '''\n",
    "    \n",
    "    total = 0\n",
    "    no_of_words = len(sentence)\n",
    "    \n",
    "    for word in sentence:\n",
    "        if word in words_in_model:\n",
    "            total += 1\n",
    "            \n",
    "    if total != no_of_words: \n",
    "    # If all words are not present in vocab of the model, we create a numpy array of zeros of same dimension as the word vector\n",
    "        return False \n",
    "    else:\n",
    "        return True"
   ]
  },
  {
   "cell_type": "code",
   "execution_count": 23,
   "id": "92f1f032",
   "metadata": {},
   "outputs": [],
   "source": [
    "# Creating train data & test data word vectors\n",
    "train_wv = [model.wv[sentence].sum(axis = 0) if len(sentence) != 0 and word_in_vocab(sentence) else np.zeros((100)) for sentence in x_train_low]\n",
    "test_wv = [model.wv[sentence].sum(axis = 0) if len(sentence) != 0 and word_in_vocab(sentence) else np.zeros((100)) for sentence in x_test_low]"
   ]
  },
  {
   "cell_type": "markdown",
   "id": "2747ba2f",
   "metadata": {},
   "source": [
    "#### Model Training using TF - IDF vectors"
   ]
  },
  {
   "cell_type": "markdown",
   "id": "a77132e8",
   "metadata": {},
   "source": [
    "#### Logistic Regression"
   ]
  },
  {
   "cell_type": "code",
   "execution_count": 34,
   "id": "a83e3230",
   "metadata": {},
   "outputs": [
    {
     "data": {
      "text/plain": [
       "LogisticRegression()"
      ]
     },
     "execution_count": 34,
     "metadata": {},
     "output_type": "execute_result"
    }
   ],
   "source": [
    "log_reg = LogisticRegression()\n",
    "log_reg.fit(train_vector,y_train)"
   ]
  },
  {
   "cell_type": "code",
   "execution_count": 25,
   "id": "33b146a1",
   "metadata": {},
   "outputs": [
    {
     "name": "stdout",
     "output_type": "stream",
     "text": [
      "Accuracy Score:  0.67\n"
     ]
    }
   ],
   "source": [
    "log_pred = log_reg.predict(train_vector)\n",
    "print('Accuracy Score: ',round(accuracy_score(log_pred,y_train),2))"
   ]
  },
  {
   "cell_type": "markdown",
   "id": "e9be78bf",
   "metadata": {},
   "source": [
    "#### Naive Bayes"
   ]
  },
  {
   "cell_type": "code",
   "execution_count": 26,
   "id": "554dc236",
   "metadata": {},
   "outputs": [
    {
     "data": {
      "text/plain": [
       "GaussianNB()"
      ]
     },
     "execution_count": 26,
     "metadata": {},
     "output_type": "execute_result"
    }
   ],
   "source": [
    "nb = GaussianNB()\n",
    "nb.fit(train_vector.todense(),y_train)"
   ]
  },
  {
   "cell_type": "code",
   "execution_count": 27,
   "id": "593896b5",
   "metadata": {},
   "outputs": [
    {
     "name": "stdout",
     "output_type": "stream",
     "text": [
      "Accuracy Score:  0.36\n"
     ]
    }
   ],
   "source": [
    "nb_pred = nb.predict(train_vector.todense())\n",
    "print('Accuracy Score: ',round(accuracy_score(nb_pred,y_train),2))"
   ]
  },
  {
   "cell_type": "markdown",
   "id": "d053c08c",
   "metadata": {},
   "source": [
    "<b>Logistic Regression gives a better accuracy score compared to Naive Bayes in case of TF-IDF vectors.</b>"
   ]
  },
  {
   "cell_type": "markdown",
   "id": "0019c277",
   "metadata": {},
   "source": [
    "#### Model Training using Word2Vec word embeddings"
   ]
  },
  {
   "cell_type": "markdown",
   "id": "5b9ca154",
   "metadata": {},
   "source": [
    "#### Logistic Regression"
   ]
  },
  {
   "cell_type": "code",
   "execution_count": 28,
   "id": "b86801ae",
   "metadata": {},
   "outputs": [
    {
     "data": {
      "text/plain": [
       "LogisticRegression()"
      ]
     },
     "execution_count": 28,
     "metadata": {},
     "output_type": "execute_result"
    }
   ],
   "source": [
    "log_r = LogisticRegression()\n",
    "log_r.fit(train_wv,y_train)"
   ]
  },
  {
   "cell_type": "code",
   "execution_count": 29,
   "id": "78e44e74",
   "metadata": {},
   "outputs": [
    {
     "name": "stdout",
     "output_type": "stream",
     "text": [
      "Accuracy Score:  0.32\n"
     ]
    }
   ],
   "source": [
    "log_p = log_r.predict(train_wv)\n",
    "print('Accuracy Score: ',round(accuracy_score(log_p,y_train),2))"
   ]
  },
  {
   "cell_type": "markdown",
   "id": "0955a58c",
   "metadata": {},
   "source": [
    "#### Naive Bayes"
   ]
  },
  {
   "cell_type": "code",
   "execution_count": 30,
   "id": "4fb46c60",
   "metadata": {},
   "outputs": [
    {
     "data": {
      "text/plain": [
       "GaussianNB()"
      ]
     },
     "execution_count": 30,
     "metadata": {},
     "output_type": "execute_result"
    }
   ],
   "source": [
    "nb = GaussianNB()\n",
    "nb.fit(train_wv,y_train)"
   ]
  },
  {
   "cell_type": "code",
   "execution_count": 31,
   "id": "ced78486",
   "metadata": {},
   "outputs": [
    {
     "name": "stdout",
     "output_type": "stream",
     "text": [
      "Accuracy Score:  0.06\n"
     ]
    }
   ],
   "source": [
    "nb_pred = nb.predict(train_wv)\n",
    "print('Accuracy Score: ',round(accuracy_score(nb_pred,y_train),2))"
   ]
  },
  {
   "cell_type": "markdown",
   "id": "081263ad",
   "metadata": {},
   "source": [
    "#### We get better results with TF - IDF vector representations compared to Word2Vec word embeddings"
   ]
  },
  {
   "cell_type": "markdown",
   "id": "aba921e3",
   "metadata": {},
   "source": [
    "<b> We will use Logistic Regression model trained using TF - IDF vectors that yields 67% accuracy(for train data) for prediction </b>"
   ]
  },
  {
   "cell_type": "code",
   "execution_count": 35,
   "id": "03f02919",
   "metadata": {},
   "outputs": [],
   "source": [
    "# Prediction on test data\n",
    "test_pred = log_reg.predict(test_vector)"
   ]
  },
  {
   "cell_type": "code",
   "execution_count": 36,
   "id": "9750b95c",
   "metadata": {},
   "outputs": [],
   "source": [
    "test_sol['Predicted'] = test_pred"
   ]
  },
  {
   "cell_type": "code",
   "execution_count": 37,
   "id": "845009e3",
   "metadata": {},
   "outputs": [
    {
     "data": {
      "text/html": [
       "<div>\n",
       "<style scoped>\n",
       "    .dataframe tbody tr th:only-of-type {\n",
       "        vertical-align: middle;\n",
       "    }\n",
       "\n",
       "    .dataframe tbody tr th {\n",
       "        vertical-align: top;\n",
       "    }\n",
       "\n",
       "    .dataframe thead th {\n",
       "        text-align: right;\n",
       "    }\n",
       "</style>\n",
       "<table border=\"1\" class=\"dataframe\">\n",
       "  <thead>\n",
       "    <tr style=\"text-align: right;\">\n",
       "      <th></th>\n",
       "      <th>Title</th>\n",
       "      <th>Genre</th>\n",
       "      <th>Description</th>\n",
       "      <th>Predicted</th>\n",
       "    </tr>\n",
       "  </thead>\n",
       "  <tbody>\n",
       "    <tr>\n",
       "      <th>1</th>\n",
       "      <td>Edgar's Lunch (1998)</td>\n",
       "      <td>thriller</td>\n",
       "      <td>L.R. Brane loves his life - his car, his apar...</td>\n",
       "      <td>drama</td>\n",
       "    </tr>\n",
       "    <tr>\n",
       "      <th>2</th>\n",
       "      <td>La guerra de papá (1977)</td>\n",
       "      <td>comedy</td>\n",
       "      <td>Spain, March 1964: Quico is a very naughty ch...</td>\n",
       "      <td>short</td>\n",
       "    </tr>\n",
       "    <tr>\n",
       "      <th>3</th>\n",
       "      <td>Off the Beaten Track (2010)</td>\n",
       "      <td>documentary</td>\n",
       "      <td>One year in the life of Albin and his family ...</td>\n",
       "      <td>drama</td>\n",
       "    </tr>\n",
       "    <tr>\n",
       "      <th>4</th>\n",
       "      <td>Meu Amigo Hindu (2015)</td>\n",
       "      <td>drama</td>\n",
       "      <td>His father has died, he hasn't spoken with hi...</td>\n",
       "      <td>short</td>\n",
       "    </tr>\n",
       "    <tr>\n",
       "      <th>5</th>\n",
       "      <td>Er nu zhai (1955)</td>\n",
       "      <td>drama</td>\n",
       "      <td>Before he was known internationally as a mart...</td>\n",
       "      <td>comedy</td>\n",
       "    </tr>\n",
       "  </tbody>\n",
       "</table>\n",
       "</div>"
      ],
      "text/plain": [
       "                           Title          Genre  \\\n",
       "1          Edgar's Lunch (1998)       thriller    \n",
       "2      La guerra de papá (1977)         comedy    \n",
       "3   Off the Beaten Track (2010)    documentary    \n",
       "4        Meu Amigo Hindu (2015)          drama    \n",
       "5             Er nu zhai (1955)          drama    \n",
       "\n",
       "                                         Description Predicted  \n",
       "1   L.R. Brane loves his life - his car, his apar...    drama   \n",
       "2   Spain, March 1964: Quico is a very naughty ch...    short   \n",
       "3   One year in the life of Albin and his family ...    drama   \n",
       "4   His father has died, he hasn't spoken with hi...    short   \n",
       "5   Before he was known internationally as a mart...   comedy   "
      ]
     },
     "execution_count": 37,
     "metadata": {},
     "output_type": "execute_result"
    }
   ],
   "source": [
    "test_sol.head()"
   ]
  },
  {
   "cell_type": "code",
   "execution_count": 38,
   "id": "b1e094eb",
   "metadata": {},
   "outputs": [
    {
     "name": "stdout",
     "output_type": "stream",
     "text": [
      "Total no of movie genre predicted:  54200 \n",
      "No of movie genre predicted right:  12370 \n",
      "Percentage of correct predictions:  23.0 %\n"
     ]
    }
   ],
   "source": [
    "# No of correct predictions\n",
    "\n",
    "total_movies = len(test_sol)\n",
    "correct_predictions = 0\n",
    "\n",
    "for movie in range(1,total_movies+1):\n",
    "    if test_sol['Genre'][movie] == test_sol['Predicted'][movie]:\n",
    "        correct_predictions += 1\n",
    "    \n",
    "print(\"Total no of movie genre predicted: \",total_movies,\"\\nNo of movie genre predicted right: \",correct_predictions,\n",
    "      \"\\nPercentage of correct predictions: \",round((correct_predictions/total_movies)*100,0),\"%\")"
   ]
  }
 ],
 "metadata": {
  "kernelspec": {
   "display_name": "Python 3 (ipykernel)",
   "language": "python",
   "name": "python3"
  },
  "language_info": {
   "codemirror_mode": {
    "name": "ipython",
    "version": 3
   },
   "file_extension": ".py",
   "mimetype": "text/x-python",
   "name": "python",
   "nbconvert_exporter": "python",
   "pygments_lexer": "ipython3",
   "version": "3.9.7"
  }
 },
 "nbformat": 4,
 "nbformat_minor": 5
}
